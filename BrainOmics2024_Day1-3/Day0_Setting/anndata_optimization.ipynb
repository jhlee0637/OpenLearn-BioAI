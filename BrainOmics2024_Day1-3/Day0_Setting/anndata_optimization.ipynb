{
 "cells": [
  {
   "cell_type": "markdown",
   "id": "c57611b5",
   "metadata": {},
   "source": [
    "## 0. Before we begin...."
   ]
  },
  {
   "cell_type": "markdown",
   "id": "f545c18c",
   "metadata": {},
   "source": [
    "**Reference**\n",
    "* https://github.com/BrainOmicsCourse/BrainOmics2024/blob/main/1_Day1/Compiled/0_AssembleAdata.html\n",
    "* https://github.com/BrainOmicsCourse/BrainOmics2024/blob/main/1_Day1/Resources.md\n",
    "* https://scbrainregulation.su.domains/\n",
    "* https://www.cell.com/cell/fulltext/S0092-8674(21)00942-9?_returnURL=https%3A%2F%2Flinkinghub.elsevier.com%2Fretrieve%2Fpii%2FS0092867421009429%3Fshowall%3Dtrue"
   ]
  },
  {
   "cell_type": "markdown",
   "id": "22822dd6",
   "metadata": {},
   "source": [
    "## 1. Python Environment Setup\n",
    "|name|version|\n",
    "|---|---|\n",
    "|macOS||\n",
    "|Python| 3.9.7|\n",
    "|numpy|2.0.2|\n",
    "|pandas|2.2.2|\n",
    "|matplotlib|3.9.4|\n",
    "|scanpy|1.10.1|\n",
    "\n",
    "### 1.1. Download Container\n",
    "!will be updated"
   ]
  },
  {
   "cell_type": "markdown",
   "id": "0f2d04b9",
   "metadata": {},
   "source": [
    "### 1.2. If the container is not working -> please set the libraries above"
   ]
  },
  {
   "cell_type": "markdown",
   "id": "cb2a625b",
   "metadata": {},
   "source": [
    "## 2. Data Download"
   ]
  },
  {
   "cell_type": "code",
   "execution_count": 1,
   "id": "d4346166",
   "metadata": {},
   "outputs": [],
   "source": [
    "### Name of Example Files\n",
    "rna_counts = 'GSE162170_rna_counts.tsv'\n",
    "rna_meta = 'GSE162170_rna_cell_metadata.txt'\n",
    "\n",
    "### Data Path\n",
    "path = '../data/'\n",
    "Id = 'Id0003'\n",
    "count_file  = f\"{path}/{Id}/{rna_counts}\"\n",
    "meta_file   = f\"{path}/{Id}/{rna_meta}\"\n",
    "output_file = f\"{path}/{Id}/1_AssembledAdata.h5ad\""
   ]
  },
  {
   "cell_type": "code",
   "execution_count": 2,
   "id": "84fb8aed",
   "metadata": {},
   "outputs": [
    {
     "name": "stdout",
     "output_type": "stream",
     "text": [
      "  % Total    % Received % Xferd  Average Speed   Time    Time     Time  Current\n",
      "                                 Dload  Upload   Total   Spent    Left  Speed\n",
      "100  133M  100  133M    0     0  9928k      0  0:00:13  0:00:13 --:--:-- 11.9M  8236k      0  0:00:16  0:00:07  0:00:09 11.4M0:13  0:00:12  0:00:01 12.1M\n",
      "  % Total    % Received % Xferd  Average Speed   Time    Time     Time  Current\n",
      "                                 Dload  Upload   Total   Spent    Left  Speed\n",
      "100 2829k  100 2829k    0     0   875k      0  0:00:03  0:00:03 --:--:--  875k\n"
     ]
    }
   ],
   "source": [
    "### Download Data\n",
    "!curl -o {rna_counts}.gz https://ftp.ncbi.nlm.nih.gov/geo/series/GSE162nnn/GSE162170/suppl/GSE162170%5Frna%5Fcounts%2Etsv%2Egz\n",
    "!curl -o {rna_meta}.gz https://ftp.ncbi.nlm.nih.gov/geo/series/GSE162nnn/GSE162170/suppl/GSE162170%5Frna%5Fcell%5Fmetadata%2Etxt%2Egz\n",
    "# If the download code is unavailable,\n",
    "# please visit https://www.ncbi.nlm.nih.gov/geo/query/acc.cgi?acc=GSE162170\n",
    "# and download two files below:\n",
    "#   GSE162170_rna_counts.tsv.gz\n",
    "#   GSE162170_rna_cell_metadata.txt.gz\n",
    "# and place them to the proper directory"
   ]
  },
  {
   "cell_type": "code",
   "execution_count": 3,
   "id": "fab76533",
   "metadata": {},
   "outputs": [],
   "source": [
    "### Unzip the data\n",
    "!gzip -d {rna_counts}.gz\n",
    "!gzip -d {rna_meta}.gz\n",
    "\n",
    "### Place the data\n",
    "!mkdir -p {path}/{Id}\n",
    "!mv {rna_counts} {count_file}\n",
    "!mv {rna_meta} {meta_file}"
   ]
  },
  {
   "cell_type": "markdown",
   "id": "5cd82c9e",
   "metadata": {},
   "source": [
    "## 2. Build Anndata\n",
    "### 2.1. Preparation"
   ]
  },
  {
   "cell_type": "code",
   "execution_count": 4,
   "id": "3a1de414",
   "metadata": {},
   "outputs": [],
   "source": [
    "### System\n",
    "import os\n",
    "import sys\n",
    "\n",
    "### Data Analysing\n",
    "import numpy as np  \n",
    "import pandas as pd\n",
    "import matplotlib.pyplot as plt\n",
    "\n",
    "### Single Cell RNA Sequening (mostly from scverse)\n",
    "import anndata as ad\n",
    "import scanpy as sc\n",
    "from scipy.sparse import csr_matrix, isspmatrix\n",
    "import scanpy.external as sce\n",
    "\n",
    "### Custom functions\n",
    "sys.path.append('../HelperFunctions')\n",
    "import Helper as fn"
   ]
  },
  {
   "cell_type": "code",
   "execution_count": 5,
   "id": "c45d5f83",
   "metadata": {},
   "outputs": [
    {
     "name": "stdout",
     "output_type": "stream",
     "text": [
      "Scanpy version:  1.10.1\n",
      "Pandas version:  2.2.2\n"
     ]
    }
   ],
   "source": [
    "print(\"Scanpy version: \", sc.__version__)\n",
    "print(\"Pandas version: \", pd.__version__)"
   ]
  },
  {
   "cell_type": "code",
   "execution_count": 6,
   "id": "f29e40b3",
   "metadata": {},
   "outputs": [
    {
     "name": "stdout",
     "output_type": "stream",
     "text": [
      "True\n",
      "True\n"
     ]
    }
   ],
   "source": [
    "### File Check\n",
    "print(os.path.exists(count_file))\n",
    "print(os.path.exists(meta_file))"
   ]
  },
  {
   "cell_type": "markdown",
   "id": "895fbf3b",
   "metadata": {},
   "source": [
    "### 2.2. Read RNA "
   ]
  },
  {
   "cell_type": "code",
   "execution_count": 7,
   "id": "163e23bc",
   "metadata": {},
   "outputs": [],
   "source": [
    "### 'count_file' will be the main of anndata\n",
    "adata = sc.read_csv(\n",
    "    count_file,\n",
    "    delimiter='\\t',\n",
    "    first_column_names=None,\n",
    "    dtype='float32'\n",
    "    ) "
   ]
  },
  {
   "cell_type": "code",
   "execution_count": 8,
   "id": "da7116bf",
   "metadata": {},
   "outputs": [
    {
     "name": "stdout",
     "output_type": "stream",
     "text": [
      "Converted adata.X to <class 'scipy.sparse._csr.csr_matrix'>\n"
     ]
    }
   ],
   "source": [
    "### You can choose different strategies when the Anndata is a sparse matrix or not.\n",
    "### From here, Anndata will be *always* the sparse matrix, and be compressed.\n",
    "if isspmatrix(adata.X) == False:\n",
    "    adata.X = csr_matrix(adata.X)\n",
    "    print('Converted adata.X to', type(adata.X))"
   ]
  },
  {
   "cell_type": "code",
   "execution_count": 9,
   "id": "86f6b971",
   "metadata": {},
   "outputs": [
    {
     "data": {
      "text/html": [
       "<div>\n",
       "<style scoped>\n",
       "    .dataframe tbody tr th:only-of-type {\n",
       "        vertical-align: middle;\n",
       "    }\n",
       "\n",
       "    .dataframe tbody tr th {\n",
       "        vertical-align: top;\n",
       "    }\n",
       "\n",
       "    .dataframe thead th {\n",
       "        text-align: right;\n",
       "    }\n",
       "</style>\n",
       "<table border=\"1\" class=\"dataframe\">\n",
       "  <thead>\n",
       "    <tr style=\"text-align: right;\">\n",
       "      <th></th>\n",
       "    </tr>\n",
       "  </thead>\n",
       "  <tbody>\n",
       "    <tr>\n",
       "      <th>hft_w20_p3_r1_AAACCCAAGCTGCGAA</th>\n",
       "    </tr>\n",
       "    <tr>\n",
       "      <th>hft_w20_p3_r1_AAACCCAAGGTAGTAT</th>\n",
       "    </tr>\n",
       "    <tr>\n",
       "      <th>hft_w20_p3_r1_AAACCCACAACTCCAA</th>\n",
       "    </tr>\n",
       "    <tr>\n",
       "      <th>hft_w20_p3_r1_AAACCCACATAGTCAC</th>\n",
       "    </tr>\n",
       "    <tr>\n",
       "      <th>hft_w20_p3_r1_AAACCCAGTACAGGTG</th>\n",
       "    </tr>\n",
       "    <tr>\n",
       "      <th>...</th>\n",
       "    </tr>\n",
       "    <tr>\n",
       "      <th>hft_w16_p7_r2_TTTGTTGCAGCACCCA</th>\n",
       "    </tr>\n",
       "    <tr>\n",
       "      <th>hft_w16_p7_r2_TTTGTTGCAGGCTACC</th>\n",
       "    </tr>\n",
       "    <tr>\n",
       "      <th>hft_w16_p7_r2_TTTGTTGGTCGCTTAA</th>\n",
       "    </tr>\n",
       "    <tr>\n",
       "      <th>hft_w16_p7_r2_TTTGTTGGTCGTACAT</th>\n",
       "    </tr>\n",
       "    <tr>\n",
       "      <th>hft_w16_p7_r2_TTTGTTGGTTAGTTCG</th>\n",
       "    </tr>\n",
       "  </tbody>\n",
       "</table>\n",
       "<p>57868 rows × 0 columns</p>\n",
       "</div>"
      ],
      "text/plain": [
       "Empty DataFrame\n",
       "Columns: []\n",
       "Index: [hft_w20_p3_r1_AAACCCAAGCTGCGAA, hft_w20_p3_r1_AAACCCAAGGTAGTAT, hft_w20_p3_r1_AAACCCACAACTCCAA, hft_w20_p3_r1_AAACCCACATAGTCAC, hft_w20_p3_r1_AAACCCAGTACAGGTG, hft_w20_p3_r1_AAACCCAGTACGGTTT, hft_w20_p3_r1_AAACCCAGTACTCGCG, hft_w20_p3_r1_AAACCCAGTATGTCCA, hft_w20_p3_r1_AAACCCAGTGTATTCG, hft_w20_p3_r1_AAACCCAGTTGCTCAA, hft_w20_p3_r1_AAACCCATCAAGGCTT, hft_w20_p3_r1_AAACCCATCTGCAGCG, hft_w20_p3_r1_AAACCCATCTGTCAGA, hft_w20_p3_r1_AAACGAAAGATGAAGG, hft_w20_p3_r1_AAACGAACAAAGTATG, hft_w20_p3_r1_AAACGAACAGACCATT, hft_w20_p3_r1_AAACGAACAGACCTGC, hft_w20_p3_r1_AAACGAAGTAGCTGTT, hft_w20_p3_r1_AAACGAAGTCACCCTT, hft_w20_p3_r1_AAACGAAGTCGTCATA, hft_w20_p3_r1_AAACGAAGTTGCATCA, hft_w20_p3_r1_AAACGCTGTCATCCCT, hft_w20_p3_r1_AAACGCTTCGTGCTCT, hft_w20_p3_r1_AAAGAACAGAAGCCAC, hft_w20_p3_r1_AAAGAACAGCGACTAG, hft_w20_p3_r1_AAAGAACAGGAGGTTC, hft_w20_p3_r1_AAAGAACAGGTGAGCT, hft_w20_p3_r1_AAAGAACAGTCATTGC, hft_w20_p3_r1_AAAGAACAGTTTCTTC, hft_w20_p3_r1_AAAGAACGTCCAGCGT, hft_w20_p3_r1_AAAGAACGTGCATTTG, hft_w20_p3_r1_AAAGGATAGAGTACCG, hft_w20_p3_r1_AAAGGATAGGTTCAGG, hft_w20_p3_r1_AAAGGATAGTGTAGAT, hft_w20_p3_r1_AAAGGATCAAATGGAT, hft_w20_p3_r1_AAAGGATCATTACTCT, hft_w20_p3_r1_AAAGGGCAGAACAAGG, hft_w20_p3_r1_AAAGGGCCACTTGAAC, hft_w20_p3_r1_AAAGGGCTCACCCTTG, hft_w20_p3_r1_AAAGGGCTCAGCCTCT, hft_w20_p3_r1_AAAGGTAAGGACGCTA, hft_w20_p3_r1_AAAGGTAAGGCATGGT, hft_w20_p3_r1_AAAGGTACATAAGCAA, hft_w20_p3_r1_AAAGGTACATAGTCGT, hft_w20_p3_r1_AAAGGTAGTGTCATCA, hft_w20_p3_r1_AAAGGTATCAGTGGGA, hft_w20_p3_r1_AAAGTCCAGAAGGATG, hft_w20_p3_r1_AAAGTCCAGACTCCGC, hft_w20_p3_r1_AAAGTCCAGCGACTTT, hft_w20_p3_r1_AAAGTCCCAAATTGGA, hft_w20_p3_r1_AAAGTCCCAGTGTACT, hft_w20_p3_r1_AAAGTCCGTAGAATAC, hft_w20_p3_r1_AAAGTCCGTATCGTGT, hft_w20_p3_r1_AAAGTCCGTCAGTCTA, hft_w20_p3_r1_AAAGTGAAGACCTTTG, hft_w20_p3_r1_AAAGTGAAGTTCCGTA, hft_w20_p3_r1_AAAGTGACACTACCCT, hft_w20_p3_r1_AAAGTGACATCATGAC, hft_w20_p3_r1_AAAGTGAGTGACCTGC, hft_w20_p3_r1_AAATGGACACACCTGG, hft_w20_p3_r1_AAATGGACACCTGATA, hft_w20_p3_r1_AAATGGACAGCATTGT, hft_w20_p3_r1_AAATGGAGTAGATGTA, hft_w20_p3_r1_AAATGGAGTGGCGTAA, hft_w20_p3_r1_AAATGGATCTTGCAGA, hft_w20_p3_r1_AACAAAGAGAAGTATC, hft_w20_p3_r1_AACAAAGAGACCTCAT, hft_w20_p3_r1_AACAAAGAGCGAGTCA, hft_w20_p3_r1_AACAAAGCAGGTTACT, hft_w20_p3_r1_AACAAAGCATATGGCT, hft_w20_p3_r1_AACAAAGGTACAAAGT, hft_w20_p3_r1_AACAAAGGTAGCTCGC, hft_w20_p3_r1_AACAAAGGTCAAAGAT, hft_w20_p3_r1_AACAACCAGCAGATAT, hft_w20_p3_r1_AACAACCAGCAGTCTT, hft_w20_p3_r1_AACAACCAGGATACCG, hft_w20_p3_r1_AACAACCCAATGCAAA, hft_w20_p3_r1_AACAACCGTGATTGGG, hft_w20_p3_r1_AACAACCTCATTATCC, hft_w20_p3_r1_AACAACCTCCCATACC, hft_w20_p3_r1_AACAACCTCGTCTACC, hft_w20_p3_r1_AACAAGAAGCCGTTAT, hft_w20_p3_r1_AACAAGACAAACACGG, hft_w20_p3_r1_AACAAGACACATAGCT, hft_w20_p3_r1_AACAAGACACGTCTCT, hft_w20_p3_r1_AACAAGACAGGAGACT, hft_w20_p3_r1_AACAAGAGTCTCAGAT, hft_w20_p3_r1_AACAAGATCGCTAAAC, hft_w20_p3_r1_AACAAGATCGTCCATC, hft_w20_p3_r1_AACACACCACTGCTTC, hft_w20_p3_r1_AACACACCATGACTAC, hft_w20_p3_r1_AACACACGTAGTAAGT, hft_w20_p3_r1_AACACACGTATCTCGA, hft_w20_p3_r1_AACACACTCCTACGAA, hft_w20_p3_r1_AACAGGGAGAGTTGAT, hft_w20_p3_r1_AACAGGGAGATTAGTG, hft_w20_p3_r1_AACAGGGAGCAACAGC, hft_w20_p3_r1_AACAGGGCAGCACAAG, hft_w20_p3_r1_AACAGGGTCGAGAACG, hft_w20_p3_r1_AACAGGGTCTCAATCT, ...]\n",
       "\n",
       "[57868 rows x 0 columns]"
      ]
     },
     "execution_count": 9,
     "metadata": {},
     "output_type": "execute_result"
    }
   ],
   "source": [
    "adata.var"
   ]
  },
  {
   "cell_type": "code",
   "execution_count": 10,
   "id": "b8da10fe",
   "metadata": {},
   "outputs": [
    {
     "data": {
      "text/html": [
       "<div>\n",
       "<style scoped>\n",
       "    .dataframe tbody tr th:only-of-type {\n",
       "        vertical-align: middle;\n",
       "    }\n",
       "\n",
       "    .dataframe tbody tr th {\n",
       "        vertical-align: top;\n",
       "    }\n",
       "\n",
       "    .dataframe thead th {\n",
       "        text-align: right;\n",
       "    }\n",
       "</style>\n",
       "<table border=\"1\" class=\"dataframe\">\n",
       "  <thead>\n",
       "    <tr style=\"text-align: right;\">\n",
       "      <th></th>\n",
       "    </tr>\n",
       "  </thead>\n",
       "  <tbody>\n",
       "    <tr>\n",
       "      <th>ENSG00000243485</th>\n",
       "    </tr>\n",
       "    <tr>\n",
       "      <th>ENSG00000237613</th>\n",
       "    </tr>\n",
       "    <tr>\n",
       "      <th>ENSG00000186092</th>\n",
       "    </tr>\n",
       "    <tr>\n",
       "      <th>ENSG00000238009</th>\n",
       "    </tr>\n",
       "    <tr>\n",
       "      <th>ENSG00000239945</th>\n",
       "    </tr>\n",
       "    <tr>\n",
       "      <th>...</th>\n",
       "    </tr>\n",
       "    <tr>\n",
       "      <th>ENSG00000212907</th>\n",
       "    </tr>\n",
       "    <tr>\n",
       "      <th>ENSG00000198886</th>\n",
       "    </tr>\n",
       "    <tr>\n",
       "      <th>ENSG00000198786</th>\n",
       "    </tr>\n",
       "    <tr>\n",
       "      <th>ENSG00000198695</th>\n",
       "    </tr>\n",
       "    <tr>\n",
       "      <th>ENSG00000198727</th>\n",
       "    </tr>\n",
       "  </tbody>\n",
       "</table>\n",
       "<p>33355 rows × 0 columns</p>\n",
       "</div>"
      ],
      "text/plain": [
       "Empty DataFrame\n",
       "Columns: []\n",
       "Index: [ENSG00000243485, ENSG00000237613, ENSG00000186092, ENSG00000238009, ENSG00000239945, ENSG00000239906, ENSG00000241599, ENSG00000236601, ENSG00000284733, ENSG00000235146, ENSG00000284662, ENSG00000229905, ENSG00000237491, ENSG00000177757, ENSG00000225880, ENSG00000230368, ENSG00000272438, ENSG00000230699, ENSG00000241180, ENSG00000223764, ENSG00000187634, ENSG00000188976, ENSG00000187961, ENSG00000187583, ENSG00000187642, ENSG00000272512, ENSG00000188290, ENSG00000187608, ENSG00000224969, ENSG00000188157, ENSG00000273443, ENSG00000237330, ENSG00000131591, ENSG00000223823, ENSG00000272141, ENSG00000205231, ENSG00000162571, ENSG00000186891, ENSG00000186827, ENSG00000078808, ENSG00000176022, ENSG00000184163, ENSG00000260179, ENSG00000160087, ENSG00000230415, ENSG00000162572, ENSG00000131584, ENSG00000169972, ENSG00000127054, ENSG00000224051, ENSG00000169962, ENSG00000107404, ENSG00000162576, ENSG00000175756, ENSG00000221978, ENSG00000242485, ENSG00000272455, ENSG00000235098, ENSG00000225905, ENSG00000205116, ENSG00000225285, ENSG00000179403, ENSG00000215915, ENSG00000160072, ENSG00000197785, ENSG00000205090, ENSG00000160075, ENSG00000215014, ENSG00000228594, ENSG00000272106, ENSG00000197530, ENSG00000189409, ENSG00000248333, ENSG00000272004, ENSG00000189339, ENSG00000008128, ENSG00000215790, ENSG00000008130, ENSG00000078369, ENSG00000231050, ENSG00000169885, ENSG00000178821, ENSG00000142609, ENSG00000233542, ENSG00000187730, ENSG00000226969, ENSG00000067606, ENSG00000271806, ENSG00000182873, ENSG00000162585, ENSG00000234396, ENSG00000157933, ENSG00000116151, ENSG00000157916, ENSG00000157911, ENSG00000149527, ENSG00000224387, ENSG00000229393, ENSG00000157881, ENSG00000197921, ...]\n",
       "\n",
       "[33355 rows x 0 columns]"
      ]
     },
     "execution_count": 10,
     "metadata": {},
     "output_type": "execute_result"
    }
   ],
   "source": [
    "adata.obs"
   ]
  },
  {
   "cell_type": "markdown",
   "id": "040b8532",
   "metadata": {},
   "source": [
    "You can see `adata.var` shows barcodes, while `adata.obs` shows genes.\n",
    "* We are going to transpose the anndata to replace them\n",
    "* `obs`(observation) will be barcodes\n",
    "* `var`(variable) will be genes"
   ]
  },
  {
   "cell_type": "code",
   "execution_count": 11,
   "id": "97c23e2f",
   "metadata": {},
   "outputs": [
    {
     "data": {
      "text/plain": [
       "AnnData object with n_obs × n_vars = 57868 × 33355"
      ]
     },
     "execution_count": 11,
     "metadata": {},
     "output_type": "execute_result"
    }
   ],
   "source": [
    "### Anndata transpose\n",
    "adata = adata.transpose()\n",
    "adata"
   ]
  },
  {
   "cell_type": "code",
   "execution_count": 12,
   "id": "8213f3b1",
   "metadata": {},
   "outputs": [
    {
     "data": {
      "text/html": [
       "<div>\n",
       "<style scoped>\n",
       "    .dataframe tbody tr th:only-of-type {\n",
       "        vertical-align: middle;\n",
       "    }\n",
       "\n",
       "    .dataframe tbody tr th {\n",
       "        vertical-align: top;\n",
       "    }\n",
       "\n",
       "    .dataframe thead th {\n",
       "        text-align: right;\n",
       "    }\n",
       "</style>\n",
       "<table border=\"1\" class=\"dataframe\">\n",
       "  <thead>\n",
       "    <tr style=\"text-align: right;\">\n",
       "      <th></th>\n",
       "    </tr>\n",
       "  </thead>\n",
       "  <tbody>\n",
       "    <tr>\n",
       "      <th>hft_w20_p3_r1_AAACCCAAGCTGCGAA</th>\n",
       "    </tr>\n",
       "    <tr>\n",
       "      <th>hft_w20_p3_r1_AAACCCAAGGTAGTAT</th>\n",
       "    </tr>\n",
       "    <tr>\n",
       "      <th>hft_w20_p3_r1_AAACCCACAACTCCAA</th>\n",
       "    </tr>\n",
       "    <tr>\n",
       "      <th>hft_w20_p3_r1_AAACCCACATAGTCAC</th>\n",
       "    </tr>\n",
       "    <tr>\n",
       "      <th>hft_w20_p3_r1_AAACCCAGTACAGGTG</th>\n",
       "    </tr>\n",
       "    <tr>\n",
       "      <th>...</th>\n",
       "    </tr>\n",
       "    <tr>\n",
       "      <th>hft_w16_p7_r2_TTTGTTGCAGCACCCA</th>\n",
       "    </tr>\n",
       "    <tr>\n",
       "      <th>hft_w16_p7_r2_TTTGTTGCAGGCTACC</th>\n",
       "    </tr>\n",
       "    <tr>\n",
       "      <th>hft_w16_p7_r2_TTTGTTGGTCGCTTAA</th>\n",
       "    </tr>\n",
       "    <tr>\n",
       "      <th>hft_w16_p7_r2_TTTGTTGGTCGTACAT</th>\n",
       "    </tr>\n",
       "    <tr>\n",
       "      <th>hft_w16_p7_r2_TTTGTTGGTTAGTTCG</th>\n",
       "    </tr>\n",
       "  </tbody>\n",
       "</table>\n",
       "<p>57868 rows × 0 columns</p>\n",
       "</div>"
      ],
      "text/plain": [
       "Empty DataFrame\n",
       "Columns: []\n",
       "Index: [hft_w20_p3_r1_AAACCCAAGCTGCGAA, hft_w20_p3_r1_AAACCCAAGGTAGTAT, hft_w20_p3_r1_AAACCCACAACTCCAA, hft_w20_p3_r1_AAACCCACATAGTCAC, hft_w20_p3_r1_AAACCCAGTACAGGTG, hft_w20_p3_r1_AAACCCAGTACGGTTT, hft_w20_p3_r1_AAACCCAGTACTCGCG, hft_w20_p3_r1_AAACCCAGTATGTCCA, hft_w20_p3_r1_AAACCCAGTGTATTCG, hft_w20_p3_r1_AAACCCAGTTGCTCAA, hft_w20_p3_r1_AAACCCATCAAGGCTT, hft_w20_p3_r1_AAACCCATCTGCAGCG, hft_w20_p3_r1_AAACCCATCTGTCAGA, hft_w20_p3_r1_AAACGAAAGATGAAGG, hft_w20_p3_r1_AAACGAACAAAGTATG, hft_w20_p3_r1_AAACGAACAGACCATT, hft_w20_p3_r1_AAACGAACAGACCTGC, hft_w20_p3_r1_AAACGAAGTAGCTGTT, hft_w20_p3_r1_AAACGAAGTCACCCTT, hft_w20_p3_r1_AAACGAAGTCGTCATA, hft_w20_p3_r1_AAACGAAGTTGCATCA, hft_w20_p3_r1_AAACGCTGTCATCCCT, hft_w20_p3_r1_AAACGCTTCGTGCTCT, hft_w20_p3_r1_AAAGAACAGAAGCCAC, hft_w20_p3_r1_AAAGAACAGCGACTAG, hft_w20_p3_r1_AAAGAACAGGAGGTTC, hft_w20_p3_r1_AAAGAACAGGTGAGCT, hft_w20_p3_r1_AAAGAACAGTCATTGC, hft_w20_p3_r1_AAAGAACAGTTTCTTC, hft_w20_p3_r1_AAAGAACGTCCAGCGT, hft_w20_p3_r1_AAAGAACGTGCATTTG, hft_w20_p3_r1_AAAGGATAGAGTACCG, hft_w20_p3_r1_AAAGGATAGGTTCAGG, hft_w20_p3_r1_AAAGGATAGTGTAGAT, hft_w20_p3_r1_AAAGGATCAAATGGAT, hft_w20_p3_r1_AAAGGATCATTACTCT, hft_w20_p3_r1_AAAGGGCAGAACAAGG, hft_w20_p3_r1_AAAGGGCCACTTGAAC, hft_w20_p3_r1_AAAGGGCTCACCCTTG, hft_w20_p3_r1_AAAGGGCTCAGCCTCT, hft_w20_p3_r1_AAAGGTAAGGACGCTA, hft_w20_p3_r1_AAAGGTAAGGCATGGT, hft_w20_p3_r1_AAAGGTACATAAGCAA, hft_w20_p3_r1_AAAGGTACATAGTCGT, hft_w20_p3_r1_AAAGGTAGTGTCATCA, hft_w20_p3_r1_AAAGGTATCAGTGGGA, hft_w20_p3_r1_AAAGTCCAGAAGGATG, hft_w20_p3_r1_AAAGTCCAGACTCCGC, hft_w20_p3_r1_AAAGTCCAGCGACTTT, hft_w20_p3_r1_AAAGTCCCAAATTGGA, hft_w20_p3_r1_AAAGTCCCAGTGTACT, hft_w20_p3_r1_AAAGTCCGTAGAATAC, hft_w20_p3_r1_AAAGTCCGTATCGTGT, hft_w20_p3_r1_AAAGTCCGTCAGTCTA, hft_w20_p3_r1_AAAGTGAAGACCTTTG, hft_w20_p3_r1_AAAGTGAAGTTCCGTA, hft_w20_p3_r1_AAAGTGACACTACCCT, hft_w20_p3_r1_AAAGTGACATCATGAC, hft_w20_p3_r1_AAAGTGAGTGACCTGC, hft_w20_p3_r1_AAATGGACACACCTGG, hft_w20_p3_r1_AAATGGACACCTGATA, hft_w20_p3_r1_AAATGGACAGCATTGT, hft_w20_p3_r1_AAATGGAGTAGATGTA, hft_w20_p3_r1_AAATGGAGTGGCGTAA, hft_w20_p3_r1_AAATGGATCTTGCAGA, hft_w20_p3_r1_AACAAAGAGAAGTATC, hft_w20_p3_r1_AACAAAGAGACCTCAT, hft_w20_p3_r1_AACAAAGAGCGAGTCA, hft_w20_p3_r1_AACAAAGCAGGTTACT, hft_w20_p3_r1_AACAAAGCATATGGCT, hft_w20_p3_r1_AACAAAGGTACAAAGT, hft_w20_p3_r1_AACAAAGGTAGCTCGC, hft_w20_p3_r1_AACAAAGGTCAAAGAT, hft_w20_p3_r1_AACAACCAGCAGATAT, hft_w20_p3_r1_AACAACCAGCAGTCTT, hft_w20_p3_r1_AACAACCAGGATACCG, hft_w20_p3_r1_AACAACCCAATGCAAA, hft_w20_p3_r1_AACAACCGTGATTGGG, hft_w20_p3_r1_AACAACCTCATTATCC, hft_w20_p3_r1_AACAACCTCCCATACC, hft_w20_p3_r1_AACAACCTCGTCTACC, hft_w20_p3_r1_AACAAGAAGCCGTTAT, hft_w20_p3_r1_AACAAGACAAACACGG, hft_w20_p3_r1_AACAAGACACATAGCT, hft_w20_p3_r1_AACAAGACACGTCTCT, hft_w20_p3_r1_AACAAGACAGGAGACT, hft_w20_p3_r1_AACAAGAGTCTCAGAT, hft_w20_p3_r1_AACAAGATCGCTAAAC, hft_w20_p3_r1_AACAAGATCGTCCATC, hft_w20_p3_r1_AACACACCACTGCTTC, hft_w20_p3_r1_AACACACCATGACTAC, hft_w20_p3_r1_AACACACGTAGTAAGT, hft_w20_p3_r1_AACACACGTATCTCGA, hft_w20_p3_r1_AACACACTCCTACGAA, hft_w20_p3_r1_AACAGGGAGAGTTGAT, hft_w20_p3_r1_AACAGGGAGATTAGTG, hft_w20_p3_r1_AACAGGGAGCAACAGC, hft_w20_p3_r1_AACAGGGCAGCACAAG, hft_w20_p3_r1_AACAGGGTCGAGAACG, hft_w20_p3_r1_AACAGGGTCTCAATCT, ...]\n",
       "\n",
       "[57868 rows x 0 columns]"
      ]
     },
     "execution_count": 12,
     "metadata": {},
     "output_type": "execute_result"
    }
   ],
   "source": [
    "adata.obs"
   ]
  },
  {
   "cell_type": "markdown",
   "id": "7368ca93",
   "metadata": {},
   "source": [
    "### 2.3. Metadata"
   ]
  },
  {
   "cell_type": "code",
   "execution_count": 13,
   "id": "14365963",
   "metadata": {},
   "outputs": [],
   "source": [
    "meta = pd.read_csv(\n",
    "    meta_file,\n",
    "    sep = '\\t',\n",
    "    index_col='Cell.ID'\n",
    "    )\n",
    "\n",
    "### Meta data is including the information about patients.\n",
    "### Put prefix to indicate it\n",
    "meta = meta.add_prefix('Auth_')"
   ]
  },
  {
   "cell_type": "code",
   "execution_count": 14,
   "id": "51d59169",
   "metadata": {},
   "outputs": [
    {
     "data": {
      "text/html": [
       "<div>\n",
       "<style scoped>\n",
       "    .dataframe tbody tr th:only-of-type {\n",
       "        vertical-align: middle;\n",
       "    }\n",
       "\n",
       "    .dataframe tbody tr th {\n",
       "        vertical-align: top;\n",
       "    }\n",
       "\n",
       "    .dataframe thead th {\n",
       "        text-align: right;\n",
       "    }\n",
       "</style>\n",
       "<table border=\"1\" class=\"dataframe\">\n",
       "  <thead>\n",
       "    <tr style=\"text-align: right;\">\n",
       "      <th></th>\n",
       "      <th>Auth_Sample.ID</th>\n",
       "      <th>Auth_Age</th>\n",
       "      <th>Auth_Tissue.ID</th>\n",
       "      <th>Auth_Sample.Type</th>\n",
       "      <th>Auth_Assay</th>\n",
       "      <th>Auth_Batch</th>\n",
       "      <th>Auth_seurat_clusters</th>\n",
       "      <th>Auth_RNA.Counts</th>\n",
       "      <th>Auth_RNA.Features</th>\n",
       "      <th>Auth_Percent.MT</th>\n",
       "      <th>...</th>\n",
       "      <th>Auth_Cell.Barcode</th>\n",
       "      <th>Auth_DF_pANN</th>\n",
       "      <th>Auth_DF_classification</th>\n",
       "      <th>Auth_DF_pANN_quantile</th>\n",
       "      <th>Auth_Spliced.Counts</th>\n",
       "      <th>Auth_Spliced.Features</th>\n",
       "      <th>Auth_Unspliced.Counts</th>\n",
       "      <th>Auth_Unspliced.Features</th>\n",
       "      <th>Auth_Ambiguous.Counts</th>\n",
       "      <th>Auth_Ambiguous.Features</th>\n",
       "    </tr>\n",
       "    <tr>\n",
       "      <th>Cell.ID</th>\n",
       "      <th></th>\n",
       "      <th></th>\n",
       "      <th></th>\n",
       "      <th></th>\n",
       "      <th></th>\n",
       "      <th></th>\n",
       "      <th></th>\n",
       "      <th></th>\n",
       "      <th></th>\n",
       "      <th></th>\n",
       "      <th></th>\n",
       "      <th></th>\n",
       "      <th></th>\n",
       "      <th></th>\n",
       "      <th></th>\n",
       "      <th></th>\n",
       "      <th></th>\n",
       "      <th></th>\n",
       "      <th></th>\n",
       "      <th></th>\n",
       "      <th></th>\n",
       "    </tr>\n",
       "  </thead>\n",
       "  <tbody>\n",
       "    <tr>\n",
       "      <th>hft_w20_p3_r1_AAACCCAAGCTGCGAA</th>\n",
       "      <td>hft_w20_p3_r1</td>\n",
       "      <td>pcw20</td>\n",
       "      <td>HFT3</td>\n",
       "      <td>HFT</td>\n",
       "      <td>RNA v3</td>\n",
       "      <td>b2019_06</td>\n",
       "      <td>c16</td>\n",
       "      <td>1397</td>\n",
       "      <td>677</td>\n",
       "      <td>0.070866</td>\n",
       "      <td>...</td>\n",
       "      <td>AAACCCAAGCTGCGAA</td>\n",
       "      <td>0.086339</td>\n",
       "      <td>Singlet</td>\n",
       "      <td>0.356997</td>\n",
       "      <td>1063</td>\n",
       "      <td>544</td>\n",
       "      <td>67</td>\n",
       "      <td>54</td>\n",
       "      <td>94</td>\n",
       "      <td>69</td>\n",
       "    </tr>\n",
       "    <tr>\n",
       "      <th>hft_w20_p3_r1_AAACCCAAGGTAGTAT</th>\n",
       "      <td>hft_w20_p3_r1</td>\n",
       "      <td>pcw20</td>\n",
       "      <td>HFT3</td>\n",
       "      <td>HFT</td>\n",
       "      <td>RNA v3</td>\n",
       "      <td>b2019_06</td>\n",
       "      <td>c11</td>\n",
       "      <td>14338</td>\n",
       "      <td>4301</td>\n",
       "      <td>0.053200</td>\n",
       "      <td>...</td>\n",
       "      <td>AAACCCAAGGTAGTAT</td>\n",
       "      <td>0.325683</td>\n",
       "      <td>Singlet</td>\n",
       "      <td>0.821429</td>\n",
       "      <td>10339</td>\n",
       "      <td>3514</td>\n",
       "      <td>5437</td>\n",
       "      <td>2526</td>\n",
       "      <td>1431</td>\n",
       "      <td>669</td>\n",
       "    </tr>\n",
       "    <tr>\n",
       "      <th>hft_w20_p3_r1_AAACCCACAACTCCAA</th>\n",
       "      <td>hft_w20_p3_r1</td>\n",
       "      <td>pcw20</td>\n",
       "      <td>HFT3</td>\n",
       "      <td>HFT</td>\n",
       "      <td>RNA v3</td>\n",
       "      <td>b2019_06</td>\n",
       "      <td>c17</td>\n",
       "      <td>9260</td>\n",
       "      <td>3481</td>\n",
       "      <td>0.043511</td>\n",
       "      <td>...</td>\n",
       "      <td>AAACCCACAACTCCAA</td>\n",
       "      <td>0.397814</td>\n",
       "      <td>Doublet</td>\n",
       "      <td>0.984402</td>\n",
       "      <td>6494</td>\n",
       "      <td>2701</td>\n",
       "      <td>6860</td>\n",
       "      <td>2515</td>\n",
       "      <td>1095</td>\n",
       "      <td>669</td>\n",
       "    </tr>\n",
       "    <tr>\n",
       "      <th>hft_w20_p3_r1_AAACCCACATAGTCAC</th>\n",
       "      <td>hft_w20_p3_r1</td>\n",
       "      <td>pcw20</td>\n",
       "      <td>HFT3</td>\n",
       "      <td>HFT</td>\n",
       "      <td>RNA v3</td>\n",
       "      <td>b2019_06</td>\n",
       "      <td>c0</td>\n",
       "      <td>4025</td>\n",
       "      <td>1969</td>\n",
       "      <td>0.015396</td>\n",
       "      <td>...</td>\n",
       "      <td>AAACCCACATAGTCAC</td>\n",
       "      <td>0.076503</td>\n",
       "      <td>Singlet</td>\n",
       "      <td>0.314723</td>\n",
       "      <td>2655</td>\n",
       "      <td>1475</td>\n",
       "      <td>5875</td>\n",
       "      <td>2058</td>\n",
       "      <td>634</td>\n",
       "      <td>377</td>\n",
       "    </tr>\n",
       "    <tr>\n",
       "      <th>hft_w20_p3_r1_AAACCCAGTACAGGTG</th>\n",
       "      <td>hft_w20_p3_r1</td>\n",
       "      <td>pcw20</td>\n",
       "      <td>HFT3</td>\n",
       "      <td>HFT</td>\n",
       "      <td>RNA v3</td>\n",
       "      <td>b2019_06</td>\n",
       "      <td>c4</td>\n",
       "      <td>7131</td>\n",
       "      <td>2930</td>\n",
       "      <td>0.044690</td>\n",
       "      <td>...</td>\n",
       "      <td>AAACCCAGTACAGGTG</td>\n",
       "      <td>0.239344</td>\n",
       "      <td>Singlet</td>\n",
       "      <td>0.746356</td>\n",
       "      <td>5008</td>\n",
       "      <td>2228</td>\n",
       "      <td>6026</td>\n",
       "      <td>2106</td>\n",
       "      <td>909</td>\n",
       "      <td>556</td>\n",
       "    </tr>\n",
       "    <tr>\n",
       "      <th>...</th>\n",
       "      <td>...</td>\n",
       "      <td>...</td>\n",
       "      <td>...</td>\n",
       "      <td>...</td>\n",
       "      <td>...</td>\n",
       "      <td>...</td>\n",
       "      <td>...</td>\n",
       "      <td>...</td>\n",
       "      <td>...</td>\n",
       "      <td>...</td>\n",
       "      <td>...</td>\n",
       "      <td>...</td>\n",
       "      <td>...</td>\n",
       "      <td>...</td>\n",
       "      <td>...</td>\n",
       "      <td>...</td>\n",
       "      <td>...</td>\n",
       "      <td>...</td>\n",
       "      <td>...</td>\n",
       "      <td>...</td>\n",
       "      <td>...</td>\n",
       "    </tr>\n",
       "    <tr>\n",
       "      <th>hft_w16_p7_r2_TTTGTTGCAGCACCCA</th>\n",
       "      <td>hft_w16_p7_r2</td>\n",
       "      <td>pcw16</td>\n",
       "      <td>HFT7</td>\n",
       "      <td>HFT</td>\n",
       "      <td>RNA NG</td>\n",
       "      <td>b2020_03</td>\n",
       "      <td>c6</td>\n",
       "      <td>8532</td>\n",
       "      <td>3497</td>\n",
       "      <td>0.018749</td>\n",
       "      <td>...</td>\n",
       "      <td>TTTGTTGCAGCACCCA</td>\n",
       "      <td>0.389488</td>\n",
       "      <td>Doublet</td>\n",
       "      <td>0.961542</td>\n",
       "      <td>6226</td>\n",
       "      <td>2730</td>\n",
       "      <td>4194</td>\n",
       "      <td>2059</td>\n",
       "      <td>973</td>\n",
       "      <td>612</td>\n",
       "    </tr>\n",
       "    <tr>\n",
       "      <th>hft_w16_p7_r2_TTTGTTGCAGGCTACC</th>\n",
       "      <td>hft_w16_p7_r2</td>\n",
       "      <td>pcw16</td>\n",
       "      <td>HFT7</td>\n",
       "      <td>HFT</td>\n",
       "      <td>RNA NG</td>\n",
       "      <td>b2020_03</td>\n",
       "      <td>c2</td>\n",
       "      <td>6689</td>\n",
       "      <td>2393</td>\n",
       "      <td>0.045577</td>\n",
       "      <td>...</td>\n",
       "      <td>TTTGTTGCAGGCTACC</td>\n",
       "      <td>0.210916</td>\n",
       "      <td>Singlet</td>\n",
       "      <td>0.663941</td>\n",
       "      <td>4757</td>\n",
       "      <td>1877</td>\n",
       "      <td>3039</td>\n",
       "      <td>1362</td>\n",
       "      <td>677</td>\n",
       "      <td>396</td>\n",
       "    </tr>\n",
       "    <tr>\n",
       "      <th>hft_w16_p7_r2_TTTGTTGGTCGCTTAA</th>\n",
       "      <td>hft_w16_p7_r2</td>\n",
       "      <td>pcw16</td>\n",
       "      <td>HFT7</td>\n",
       "      <td>HFT</td>\n",
       "      <td>RNA NG</td>\n",
       "      <td>b2020_03</td>\n",
       "      <td>c2</td>\n",
       "      <td>3865</td>\n",
       "      <td>1799</td>\n",
       "      <td>0.035954</td>\n",
       "      <td>...</td>\n",
       "      <td>TTTGTTGGTCGCTTAA</td>\n",
       "      <td>0.074798</td>\n",
       "      <td>Singlet</td>\n",
       "      <td>0.306766</td>\n",
       "      <td>2808</td>\n",
       "      <td>1409</td>\n",
       "      <td>1436</td>\n",
       "      <td>832</td>\n",
       "      <td>431</td>\n",
       "      <td>273</td>\n",
       "    </tr>\n",
       "    <tr>\n",
       "      <th>hft_w16_p7_r2_TTTGTTGGTCGTACAT</th>\n",
       "      <td>hft_w16_p7_r2</td>\n",
       "      <td>pcw16</td>\n",
       "      <td>HFT7</td>\n",
       "      <td>HFT</td>\n",
       "      <td>RNA NG</td>\n",
       "      <td>b2020_03</td>\n",
       "      <td>c2</td>\n",
       "      <td>5293</td>\n",
       "      <td>2365</td>\n",
       "      <td>0.032861</td>\n",
       "      <td>...</td>\n",
       "      <td>TTTGTTGGTCGTACAT</td>\n",
       "      <td>0.208895</td>\n",
       "      <td>Singlet</td>\n",
       "      <td>0.660796</td>\n",
       "      <td>3660</td>\n",
       "      <td>1760</td>\n",
       "      <td>6166</td>\n",
       "      <td>2211</td>\n",
       "      <td>672</td>\n",
       "      <td>416</td>\n",
       "    </tr>\n",
       "    <tr>\n",
       "      <th>hft_w16_p7_r2_TTTGTTGGTTAGTTCG</th>\n",
       "      <td>hft_w16_p7_r2</td>\n",
       "      <td>pcw16</td>\n",
       "      <td>HFT7</td>\n",
       "      <td>HFT</td>\n",
       "      <td>RNA NG</td>\n",
       "      <td>b2020_03</td>\n",
       "      <td>c6</td>\n",
       "      <td>5291</td>\n",
       "      <td>2530</td>\n",
       "      <td>0.006803</td>\n",
       "      <td>...</td>\n",
       "      <td>TTTGTTGGTTAGTTCG</td>\n",
       "      <td>0.313342</td>\n",
       "      <td>Singlet</td>\n",
       "      <td>0.837631</td>\n",
       "      <td>3676</td>\n",
       "      <td>2022</td>\n",
       "      <td>3299</td>\n",
       "      <td>1658</td>\n",
       "      <td>706</td>\n",
       "      <td>391</td>\n",
       "    </tr>\n",
       "  </tbody>\n",
       "</table>\n",
       "<p>57868 rows × 21 columns</p>\n",
       "</div>"
      ],
      "text/plain": [
       "                               Auth_Sample.ID Auth_Age Auth_Tissue.ID  \\\n",
       "Cell.ID                                                                 \n",
       "hft_w20_p3_r1_AAACCCAAGCTGCGAA  hft_w20_p3_r1    pcw20           HFT3   \n",
       "hft_w20_p3_r1_AAACCCAAGGTAGTAT  hft_w20_p3_r1    pcw20           HFT3   \n",
       "hft_w20_p3_r1_AAACCCACAACTCCAA  hft_w20_p3_r1    pcw20           HFT3   \n",
       "hft_w20_p3_r1_AAACCCACATAGTCAC  hft_w20_p3_r1    pcw20           HFT3   \n",
       "hft_w20_p3_r1_AAACCCAGTACAGGTG  hft_w20_p3_r1    pcw20           HFT3   \n",
       "...                                       ...      ...            ...   \n",
       "hft_w16_p7_r2_TTTGTTGCAGCACCCA  hft_w16_p7_r2    pcw16           HFT7   \n",
       "hft_w16_p7_r2_TTTGTTGCAGGCTACC  hft_w16_p7_r2    pcw16           HFT7   \n",
       "hft_w16_p7_r2_TTTGTTGGTCGCTTAA  hft_w16_p7_r2    pcw16           HFT7   \n",
       "hft_w16_p7_r2_TTTGTTGGTCGTACAT  hft_w16_p7_r2    pcw16           HFT7   \n",
       "hft_w16_p7_r2_TTTGTTGGTTAGTTCG  hft_w16_p7_r2    pcw16           HFT7   \n",
       "\n",
       "                               Auth_Sample.Type Auth_Assay Auth_Batch  \\\n",
       "Cell.ID                                                                 \n",
       "hft_w20_p3_r1_AAACCCAAGCTGCGAA              HFT     RNA v3   b2019_06   \n",
       "hft_w20_p3_r1_AAACCCAAGGTAGTAT              HFT     RNA v3   b2019_06   \n",
       "hft_w20_p3_r1_AAACCCACAACTCCAA              HFT     RNA v3   b2019_06   \n",
       "hft_w20_p3_r1_AAACCCACATAGTCAC              HFT     RNA v3   b2019_06   \n",
       "hft_w20_p3_r1_AAACCCAGTACAGGTG              HFT     RNA v3   b2019_06   \n",
       "...                                         ...        ...        ...   \n",
       "hft_w16_p7_r2_TTTGTTGCAGCACCCA              HFT     RNA NG   b2020_03   \n",
       "hft_w16_p7_r2_TTTGTTGCAGGCTACC              HFT     RNA NG   b2020_03   \n",
       "hft_w16_p7_r2_TTTGTTGGTCGCTTAA              HFT     RNA NG   b2020_03   \n",
       "hft_w16_p7_r2_TTTGTTGGTCGTACAT              HFT     RNA NG   b2020_03   \n",
       "hft_w16_p7_r2_TTTGTTGGTTAGTTCG              HFT     RNA NG   b2020_03   \n",
       "\n",
       "                               Auth_seurat_clusters  Auth_RNA.Counts  \\\n",
       "Cell.ID                                                                \n",
       "hft_w20_p3_r1_AAACCCAAGCTGCGAA                  c16             1397   \n",
       "hft_w20_p3_r1_AAACCCAAGGTAGTAT                  c11            14338   \n",
       "hft_w20_p3_r1_AAACCCACAACTCCAA                  c17             9260   \n",
       "hft_w20_p3_r1_AAACCCACATAGTCAC                   c0             4025   \n",
       "hft_w20_p3_r1_AAACCCAGTACAGGTG                   c4             7131   \n",
       "...                                             ...              ...   \n",
       "hft_w16_p7_r2_TTTGTTGCAGCACCCA                   c6             8532   \n",
       "hft_w16_p7_r2_TTTGTTGCAGGCTACC                   c2             6689   \n",
       "hft_w16_p7_r2_TTTGTTGGTCGCTTAA                   c2             3865   \n",
       "hft_w16_p7_r2_TTTGTTGGTCGTACAT                   c2             5293   \n",
       "hft_w16_p7_r2_TTTGTTGGTTAGTTCG                   c6             5291   \n",
       "\n",
       "                                Auth_RNA.Features  Auth_Percent.MT  ...  \\\n",
       "Cell.ID                                                             ...   \n",
       "hft_w20_p3_r1_AAACCCAAGCTGCGAA                677         0.070866  ...   \n",
       "hft_w20_p3_r1_AAACCCAAGGTAGTAT               4301         0.053200  ...   \n",
       "hft_w20_p3_r1_AAACCCACAACTCCAA               3481         0.043511  ...   \n",
       "hft_w20_p3_r1_AAACCCACATAGTCAC               1969         0.015396  ...   \n",
       "hft_w20_p3_r1_AAACCCAGTACAGGTG               2930         0.044690  ...   \n",
       "...                                           ...              ...  ...   \n",
       "hft_w16_p7_r2_TTTGTTGCAGCACCCA               3497         0.018749  ...   \n",
       "hft_w16_p7_r2_TTTGTTGCAGGCTACC               2393         0.045577  ...   \n",
       "hft_w16_p7_r2_TTTGTTGGTCGCTTAA               1799         0.035954  ...   \n",
       "hft_w16_p7_r2_TTTGTTGGTCGTACAT               2365         0.032861  ...   \n",
       "hft_w16_p7_r2_TTTGTTGGTTAGTTCG               2530         0.006803  ...   \n",
       "\n",
       "                                Auth_Cell.Barcode Auth_DF_pANN  \\\n",
       "Cell.ID                                                          \n",
       "hft_w20_p3_r1_AAACCCAAGCTGCGAA   AAACCCAAGCTGCGAA     0.086339   \n",
       "hft_w20_p3_r1_AAACCCAAGGTAGTAT   AAACCCAAGGTAGTAT     0.325683   \n",
       "hft_w20_p3_r1_AAACCCACAACTCCAA   AAACCCACAACTCCAA     0.397814   \n",
       "hft_w20_p3_r1_AAACCCACATAGTCAC   AAACCCACATAGTCAC     0.076503   \n",
       "hft_w20_p3_r1_AAACCCAGTACAGGTG   AAACCCAGTACAGGTG     0.239344   \n",
       "...                                           ...          ...   \n",
       "hft_w16_p7_r2_TTTGTTGCAGCACCCA   TTTGTTGCAGCACCCA     0.389488   \n",
       "hft_w16_p7_r2_TTTGTTGCAGGCTACC   TTTGTTGCAGGCTACC     0.210916   \n",
       "hft_w16_p7_r2_TTTGTTGGTCGCTTAA   TTTGTTGGTCGCTTAA     0.074798   \n",
       "hft_w16_p7_r2_TTTGTTGGTCGTACAT   TTTGTTGGTCGTACAT     0.208895   \n",
       "hft_w16_p7_r2_TTTGTTGGTTAGTTCG   TTTGTTGGTTAGTTCG     0.313342   \n",
       "\n",
       "                                Auth_DF_classification Auth_DF_pANN_quantile  \\\n",
       "Cell.ID                                                                        \n",
       "hft_w20_p3_r1_AAACCCAAGCTGCGAA                 Singlet              0.356997   \n",
       "hft_w20_p3_r1_AAACCCAAGGTAGTAT                 Singlet              0.821429   \n",
       "hft_w20_p3_r1_AAACCCACAACTCCAA                 Doublet              0.984402   \n",
       "hft_w20_p3_r1_AAACCCACATAGTCAC                 Singlet              0.314723   \n",
       "hft_w20_p3_r1_AAACCCAGTACAGGTG                 Singlet              0.746356   \n",
       "...                                                ...                   ...   \n",
       "hft_w16_p7_r2_TTTGTTGCAGCACCCA                 Doublet              0.961542   \n",
       "hft_w16_p7_r2_TTTGTTGCAGGCTACC                 Singlet              0.663941   \n",
       "hft_w16_p7_r2_TTTGTTGGTCGCTTAA                 Singlet              0.306766   \n",
       "hft_w16_p7_r2_TTTGTTGGTCGTACAT                 Singlet              0.660796   \n",
       "hft_w16_p7_r2_TTTGTTGGTTAGTTCG                 Singlet              0.837631   \n",
       "\n",
       "                                Auth_Spliced.Counts  Auth_Spliced.Features  \\\n",
       "Cell.ID                                                                      \n",
       "hft_w20_p3_r1_AAACCCAAGCTGCGAA                 1063                    544   \n",
       "hft_w20_p3_r1_AAACCCAAGGTAGTAT                10339                   3514   \n",
       "hft_w20_p3_r1_AAACCCACAACTCCAA                 6494                   2701   \n",
       "hft_w20_p3_r1_AAACCCACATAGTCAC                 2655                   1475   \n",
       "hft_w20_p3_r1_AAACCCAGTACAGGTG                 5008                   2228   \n",
       "...                                             ...                    ...   \n",
       "hft_w16_p7_r2_TTTGTTGCAGCACCCA                 6226                   2730   \n",
       "hft_w16_p7_r2_TTTGTTGCAGGCTACC                 4757                   1877   \n",
       "hft_w16_p7_r2_TTTGTTGGTCGCTTAA                 2808                   1409   \n",
       "hft_w16_p7_r2_TTTGTTGGTCGTACAT                 3660                   1760   \n",
       "hft_w16_p7_r2_TTTGTTGGTTAGTTCG                 3676                   2022   \n",
       "\n",
       "                                Auth_Unspliced.Counts  \\\n",
       "Cell.ID                                                 \n",
       "hft_w20_p3_r1_AAACCCAAGCTGCGAA                     67   \n",
       "hft_w20_p3_r1_AAACCCAAGGTAGTAT                   5437   \n",
       "hft_w20_p3_r1_AAACCCACAACTCCAA                   6860   \n",
       "hft_w20_p3_r1_AAACCCACATAGTCAC                   5875   \n",
       "hft_w20_p3_r1_AAACCCAGTACAGGTG                   6026   \n",
       "...                                               ...   \n",
       "hft_w16_p7_r2_TTTGTTGCAGCACCCA                   4194   \n",
       "hft_w16_p7_r2_TTTGTTGCAGGCTACC                   3039   \n",
       "hft_w16_p7_r2_TTTGTTGGTCGCTTAA                   1436   \n",
       "hft_w16_p7_r2_TTTGTTGGTCGTACAT                   6166   \n",
       "hft_w16_p7_r2_TTTGTTGGTTAGTTCG                   3299   \n",
       "\n",
       "                                Auth_Unspliced.Features  \\\n",
       "Cell.ID                                                   \n",
       "hft_w20_p3_r1_AAACCCAAGCTGCGAA                       54   \n",
       "hft_w20_p3_r1_AAACCCAAGGTAGTAT                     2526   \n",
       "hft_w20_p3_r1_AAACCCACAACTCCAA                     2515   \n",
       "hft_w20_p3_r1_AAACCCACATAGTCAC                     2058   \n",
       "hft_w20_p3_r1_AAACCCAGTACAGGTG                     2106   \n",
       "...                                                 ...   \n",
       "hft_w16_p7_r2_TTTGTTGCAGCACCCA                     2059   \n",
       "hft_w16_p7_r2_TTTGTTGCAGGCTACC                     1362   \n",
       "hft_w16_p7_r2_TTTGTTGGTCGCTTAA                      832   \n",
       "hft_w16_p7_r2_TTTGTTGGTCGTACAT                     2211   \n",
       "hft_w16_p7_r2_TTTGTTGGTTAGTTCG                     1658   \n",
       "\n",
       "                                Auth_Ambiguous.Counts  Auth_Ambiguous.Features  \n",
       "Cell.ID                                                                         \n",
       "hft_w20_p3_r1_AAACCCAAGCTGCGAA                     94                       69  \n",
       "hft_w20_p3_r1_AAACCCAAGGTAGTAT                   1431                      669  \n",
       "hft_w20_p3_r1_AAACCCACAACTCCAA                   1095                      669  \n",
       "hft_w20_p3_r1_AAACCCACATAGTCAC                    634                      377  \n",
       "hft_w20_p3_r1_AAACCCAGTACAGGTG                    909                      556  \n",
       "...                                               ...                      ...  \n",
       "hft_w16_p7_r2_TTTGTTGCAGCACCCA                    973                      612  \n",
       "hft_w16_p7_r2_TTTGTTGCAGGCTACC                    677                      396  \n",
       "hft_w16_p7_r2_TTTGTTGGTCGCTTAA                    431                      273  \n",
       "hft_w16_p7_r2_TTTGTTGGTCGTACAT                    672                      416  \n",
       "hft_w16_p7_r2_TTTGTTGGTTAGTTCG                    706                      391  \n",
       "\n",
       "[57868 rows x 21 columns]"
      ]
     },
     "execution_count": 14,
     "metadata": {},
     "output_type": "execute_result"
    }
   ],
   "source": [
    "meta"
   ]
  },
  {
   "cell_type": "markdown",
   "id": "eaae03e6",
   "metadata": {},
   "source": [
    "### 2.4 Optimizing adata.X data type to uint16 \n",
    "* optimized data type boosts the process"
   ]
  },
  {
   "cell_type": "code",
   "execution_count": 15,
   "id": "eb2e43ca",
   "metadata": {},
   "outputs": [
    {
     "name": "stdout",
     "output_type": "stream",
     "text": [
      "Checking complete adata\n"
     ]
    }
   ],
   "source": [
    "### Check if adata.X contains non-integer data\n",
    "### If the data is not big, check all\n",
    "### If the data is too big, check random data\n",
    "if adata.shape[0] <= 250000: \n",
    "    print('Checking complete adata')\n",
    "    if np.equal(np.mod(adata.X.toarray(), 1), 0).all() != True:\n",
    "        print('CAREFUL: non-integer matrix loaded!')\n",
    "else:\n",
    "    print ('Checking a subsample of adata')\n",
    "    if np.equal(np.mod(sc.pp.subsample(adata, n_obs=250000, random_state=0, copy=True).X.toarray(), 1), 0).all() != True:\n",
    "        print('CAREFUL: non-integer matrix loaded!')"
   ]
  },
  {
   "cell_type": "code",
   "execution_count": 16,
   "id": "a25f9e2a",
   "metadata": {},
   "outputs": [
    {
     "name": "stdout",
     "output_type": "stream",
     "text": [
      "Change X type to integer\n"
     ]
    }
   ],
   "source": [
    "### Check if the maximum value in the data fits within the 'uint16' range (0 ~ 65535)\n",
    "### 32,000 <- safe threshold\n",
    "maxCount = csr_matrix.max(adata.X)\n",
    "if maxCount < 32000: \n",
    "    print('Change X type to integer')\n",
    "    adata.X = adata.X.astype('uint16') # Optimization to 'unit16'\n",
    "    if maxCount != csr_matrix.max(adata.X):\n",
    "        print('CAREFUL: max count value has changed!')\n",
    "else: \n",
    "    print('X type not changed') # In this case, consider different data type"
   ]
  },
  {
   "cell_type": "markdown",
   "id": "275cdff4",
   "metadata": {},
   "source": [
    "### 2.5 Build adata.obs"
   ]
  },
  {
   "cell_type": "code",
   "execution_count": 17,
   "id": "5a479057",
   "metadata": {},
   "outputs": [],
   "source": [
    "if meta.shape[0] != adata.obs.shape[0]:\n",
    "    print('CAREFUL: expression matrix and metadata size are not coherent!')\n",
    "    print ('Metadata rows: ' + str(meta.shape[0]))"
   ]
  },
  {
   "cell_type": "code",
   "execution_count": 18,
   "id": "48aff8ed",
   "metadata": {},
   "outputs": [],
   "source": [
    "adata.obs = adata.obs.join(meta, how='left', validate='one_to_one')"
   ]
  },
  {
   "cell_type": "markdown",
   "id": "f60c84d6",
   "metadata": {},
   "source": [
    "### 2.6 Build adata.var"
   ]
  },
  {
   "cell_type": "code",
   "execution_count": 19,
   "id": "219c7a36",
   "metadata": {},
   "outputs": [],
   "source": [
    "annot = sc.queries.biomart_annotations(\n",
    "        \"hsapiens\",\n",
    "        [\"ensembl_gene_id\", \"external_gene_name\",\"start_position\", \"end_position\", \"chromosome_name\"],\n",
    "    ).set_index(\"ensembl_gene_id\")"
   ]
  },
  {
   "cell_type": "code",
   "execution_count": 20,
   "id": "e2c757fb",
   "metadata": {},
   "outputs": [
    {
     "name": "stdout",
     "output_type": "stream",
     "text": [
      "8463\n"
     ]
    }
   ],
   "source": [
    "adata.var = adata.var.join(annot, how='left', validate='one_to_one')\n",
    "print(adata.var['external_gene_name'].isnull().sum())\n",
    "del annot"
   ]
  },
  {
   "cell_type": "markdown",
   "id": "921462db",
   "metadata": {},
   "source": [
    "* The value 8463 is different with https://github.com/BrainOmicsCourse/BrainOmics2024/blob/main/1_Day1/Compiled/0_AssembleAdata.html\n",
    "* I decided to ignore this problem"
   ]
  },
  {
   "cell_type": "code",
   "execution_count": 21,
   "id": "40d82ee5",
   "metadata": {},
   "outputs": [],
   "source": [
    "adata.var['ensg'] = adata.var.index.tolist()\n",
    "adata.var['external_gene_name'] = adata.var['external_gene_name'].fillna(adata.var.ensg)"
   ]
  },
  {
   "cell_type": "code",
   "execution_count": 22,
   "id": "20735c23",
   "metadata": {},
   "outputs": [],
   "source": [
    "#replace external gene name as index\n",
    "adata.var.index = adata.var['external_gene_name']\n",
    "adata.var.drop('external_gene_name', axis = 1, inplace = True)\n",
    "adata.var_names_make_unique()"
   ]
  },
  {
   "cell_type": "code",
   "execution_count": 23,
   "id": "e071db2a",
   "metadata": {},
   "outputs": [
    {
     "data": {
      "text/html": [
       "<div>\n",
       "<style scoped>\n",
       "    .dataframe tbody tr th:only-of-type {\n",
       "        vertical-align: middle;\n",
       "    }\n",
       "\n",
       "    .dataframe tbody tr th {\n",
       "        vertical-align: top;\n",
       "    }\n",
       "\n",
       "    .dataframe thead th {\n",
       "        text-align: right;\n",
       "    }\n",
       "</style>\n",
       "<table border=\"1\" class=\"dataframe\">\n",
       "  <thead>\n",
       "    <tr style=\"text-align: right;\">\n",
       "      <th></th>\n",
       "      <th>start_position</th>\n",
       "      <th>end_position</th>\n",
       "      <th>chromosome_name</th>\n",
       "      <th>ensg</th>\n",
       "    </tr>\n",
       "    <tr>\n",
       "      <th>external_gene_name</th>\n",
       "      <th></th>\n",
       "      <th></th>\n",
       "      <th></th>\n",
       "      <th></th>\n",
       "    </tr>\n",
       "  </thead>\n",
       "  <tbody>\n",
       "    <tr>\n",
       "      <th>MIR1302-2HG</th>\n",
       "      <td>28589.0</td>\n",
       "      <td>31109.0</td>\n",
       "      <td>1</td>\n",
       "      <td>ENSG00000243485</td>\n",
       "    </tr>\n",
       "    <tr>\n",
       "      <th>FAM138A</th>\n",
       "      <td>34553.0</td>\n",
       "      <td>37595.0</td>\n",
       "      <td>1</td>\n",
       "      <td>ENSG00000237613</td>\n",
       "    </tr>\n",
       "    <tr>\n",
       "      <th>OR4F5</th>\n",
       "      <td>65419.0</td>\n",
       "      <td>71585.0</td>\n",
       "      <td>1</td>\n",
       "      <td>ENSG00000186092</td>\n",
       "    </tr>\n",
       "  </tbody>\n",
       "</table>\n",
       "</div>"
      ],
      "text/plain": [
       "                    start_position  end_position chromosome_name  \\\n",
       "external_gene_name                                                 \n",
       "MIR1302-2HG                28589.0       31109.0               1   \n",
       "FAM138A                    34553.0       37595.0               1   \n",
       "OR4F5                      65419.0       71585.0               1   \n",
       "\n",
       "                               ensg  \n",
       "external_gene_name                   \n",
       "MIR1302-2HG         ENSG00000243485  \n",
       "FAM138A             ENSG00000237613  \n",
       "OR4F5               ENSG00000186092  "
      ]
     },
     "execution_count": 23,
     "metadata": {},
     "output_type": "execute_result"
    }
   ],
   "source": [
    "adata.var.head(3)"
   ]
  },
  {
   "cell_type": "markdown",
   "id": "639626cc",
   "metadata": {},
   "source": [
    "### 2.7. Add additional fields to adata.obs"
   ]
  },
  {
   "cell_type": "code",
   "execution_count": 24,
   "id": "b728373e",
   "metadata": {},
   "outputs": [],
   "source": [
    "adata.obs['dataset_id'] = 'Id0003'\n",
    "adata.obs['sample_id'] = adata.obs['Auth_Sample.ID']\n",
    "adata.obs['brain_region'] = 'cerebral_cortex'\n",
    "adata.obs['age'] = adata.obs['Auth_Age'].str.replace('pcw', 'PCW_')\n",
    "adata.obs['stage'] = 'prenatal'\n",
    "adata.obs['batch_key'] = adata.obs['Auth_Batch'] + '_' + adata.obs['Auth_Assay'].str.replace(' ', '')"
   ]
  },
  {
   "cell_type": "code",
   "execution_count": 25,
   "id": "6cc6583b",
   "metadata": {},
   "outputs": [],
   "source": [
    "Dict = {'c0': 'ExN_N5', 'c1': 'In_CGE', 'c2': 'ExN_N1',\n",
    "        'c3': 'In_MGE', 'c4': 'ExN_N4', 'c5': 'ExN_N2', \n",
    "        'c6': 'RG_early', 'c7': 'ExN_N7', 'c8': 'CycProg', \n",
    "        'c9': 'ExN_N3', 'c10': 'RG_late', 'c11': 'GliaPg', \n",
    "        'c12': 'ExN_N6', 'c13': 'SubPlate', 'c14': 'IPC', \n",
    "        'c15': 'ExN_N8', 'c16': 'Microglia', 'c17': 'OPC_Oligo', \n",
    "        'c18': 'tRG', 'c19': 'Pericytes', 'c20': 'Endo',\n",
    "        'c21': 'RBC', 'c22': 'VLMC'\n",
    "       }\n",
    "\n",
    "adata.obs['cell_label'] = adata.obs['Auth_seurat_clusters'].replace(Dict)"
   ]
  },
  {
   "cell_type": "markdown",
   "id": "4de752a5",
   "metadata": {},
   "source": [
    "### 2.8. Save"
   ]
  },
  {
   "cell_type": "code",
   "execution_count": 26,
   "id": "04b1342a",
   "metadata": {},
   "outputs": [
    {
     "data": {
      "text/plain": [
       "AnnData object with n_obs × n_vars = 57868 × 33355\n",
       "    obs: 'Auth_Sample.ID', 'Auth_Age', 'Auth_Tissue.ID', 'Auth_Sample.Type', 'Auth_Assay', 'Auth_Batch', 'Auth_seurat_clusters', 'Auth_RNA.Counts', 'Auth_RNA.Features', 'Auth_Percent.MT', 'Auth_Percent.Ribo', 'Auth_Cell.Barcode', 'Auth_DF_pANN', 'Auth_DF_classification', 'Auth_DF_pANN_quantile', 'Auth_Spliced.Counts', 'Auth_Spliced.Features', 'Auth_Unspliced.Counts', 'Auth_Unspliced.Features', 'Auth_Ambiguous.Counts', 'Auth_Ambiguous.Features', 'dataset_id', 'sample_id', 'brain_region', 'age', 'stage', 'batch_key', 'cell_label'\n",
       "    var: 'start_position', 'end_position', 'chromosome_name', 'ensg'"
      ]
     },
     "execution_count": 26,
     "metadata": {},
     "output_type": "execute_result"
    }
   ],
   "source": [
    "adata"
   ]
  },
  {
   "cell_type": "code",
   "execution_count": 27,
   "id": "ad3d0b5d",
   "metadata": {},
   "outputs": [],
   "source": [
    "if isspmatrix(adata.X) == False:\n",
    "    adata.X = csr_matrix(adata.X)\n",
    "    print('Converted adata.X to', type(adata.X))"
   ]
  },
  {
   "cell_type": "code",
   "execution_count": 28,
   "id": "1fd648e2",
   "metadata": {},
   "outputs": [],
   "source": [
    "adata.write(output_file, compression='gzip')"
   ]
  },
  {
   "cell_type": "code",
   "execution_count": 29,
   "id": "4220ffb1",
   "metadata": {},
   "outputs": [
    {
     "data": {
      "text/plain": [
       "245726691"
      ]
     },
     "execution_count": 29,
     "metadata": {},
     "output_type": "execute_result"
    }
   ],
   "source": [
    "os.path.getsize(output_file)"
   ]
  }
 ],
 "metadata": {
  "kernelspec": {
   "display_name": "Brainomics",
   "language": "python",
   "name": "python3"
  },
  "language_info": {
   "codemirror_mode": {
    "name": "ipython",
    "version": 3
   },
   "file_extension": ".py",
   "mimetype": "text/x-python",
   "name": "python",
   "nbconvert_exporter": "python",
   "pygments_lexer": "ipython3",
   "version": "3.9.7"
  }
 },
 "nbformat": 4,
 "nbformat_minor": 5
}
