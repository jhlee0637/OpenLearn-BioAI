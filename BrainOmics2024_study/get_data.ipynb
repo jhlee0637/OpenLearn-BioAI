{
 "cells": [
  {
   "cell_type": "markdown",
   "id": "9e274315",
   "metadata": {},
   "source": [
    "1. Download\n",
    "* "
   ]
  },
  {
   "cell_type": "code",
   "execution_count": null,
   "id": "30b2ad90",
   "metadata": {},
   "outputs": [],
   "source": [
    "!mkdir ./DataDir"
   ]
  },
  {
   "cell_type": "code",
   "execution_count": null,
   "id": "92e7069c",
   "metadata": {},
   "outputs": [],
   "source": [
    "import os\n",
    "import sys\n",
    "\n",
    "import numpy as np\n",
    "import pandas as pd\n",
    "import anndata as ad\n",
    "import scanpy as sc\n",
    "from scipy.sparse import csr_matrix, isspmatrix\n",
    "\n",
    "import matplotlib.pyplot as plt\n",
    "import scanpy.external as sce\n",
    "\n",
    "from datetime import datetime\n",
    "import ipynbname\n",
    "\n",
    "print(\"Scanpy version: \", sc.__version__)\n",
    "print(\"Pandas version: \", pd.__version__)"
   ]
  },
  {
   "cell_type": "code",
   "execution_count": null,
   "id": "f9d4fb7f",
   "metadata": {},
   "outputs": [],
   "source": [
    "# Custom functions\n",
    "sys.path.append('../HelperFunctions')\n",
    "import Helper as fn"
   ]
  },
  {
   "cell_type": "code",
   "execution_count": null,
   "id": "c5d60fae",
   "metadata": {},
   "outputs": [],
   "source": [
    "sc.settings.verbosity = 3\n",
    "sc.settings.set_figure_params(dpi=120)"
   ]
  },
  {
   "cell_type": "code",
   "execution_count": null,
   "id": "8a4ef216",
   "metadata": {},
   "outputs": [],
   "source": [
    "path = './DataDir/'\n",
    "Id = 'Id0003'\n",
    "\n",
    "input_file = path + Id + '/0_Starting/GSE162170_rna_counts.tsv'\n",
    "meta_file = path + Id + '/0_Starting/GSE162170_rna_cell_metadata.txt'\n",
    "output_file = path + Id + '/1_AssembledAdata.h5ad'"
   ]
  },
  {
   "cell_type": "code",
   "execution_count": null,
   "id": "09819d65",
   "metadata": {},
   "outputs": [],
   "source": [
    "print(datetime.now())"
   ]
  },
  {
   "cell_type": "code",
   "execution_count": null,
   "id": "163e23bc",
   "metadata": {},
   "outputs": [],
   "source": [
    "adata = sc.read_csv(input_file, delimiter='\\t', first_column_names=None, dtype='float32') "
   ]
  },
  {
   "cell_type": "code",
   "execution_count": null,
   "id": "da7116bf",
   "metadata": {},
   "outputs": [],
   "source": [
    "if isspmatrix(adata.X) == False:\n",
    "    adata.X = csr_matrix(adata.X)\n",
    "    print('Converted adata.X to', type(adata.X))"
   ]
  },
  {
   "cell_type": "code",
   "execution_count": null,
   "id": "97c23e2f",
   "metadata": {},
   "outputs": [],
   "source": [
    "adata = adata.transpose()\n",
    "adata"
   ]
  },
  {
   "cell_type": "code",
   "execution_count": null,
   "id": "14365963",
   "metadata": {},
   "outputs": [],
   "source": [
    "meta = pd.read_csv(meta_file, sep = '\\t', index_col='Cell.ID')\n",
    "meta = meta.add_prefix('Auth_')\n",
    "print(meta.shape)\n",
    "meta.head()"
   ]
  },
  {
   "cell_type": "code",
   "execution_count": null,
   "id": "eb2e43ca",
   "metadata": {},
   "outputs": [],
   "source": [
    "#check that adata.X contains integers\n",
    "if adata.shape[0] <= 250000: \n",
    "    print('Checking complete adata')\n",
    "    if np.equal(np.mod(adata.X.toarray(), 1), 0).all() != True:\n",
    "        print('CAREFUL: non-integer matrix loaded!')\n",
    "\n",
    "if adata.shape[0] > 250000:\n",
    "    print ('Checking a subsample of adata')\n",
    "    if np.equal(np.mod(sc.pp.subsample(adata, n_obs=250000, random_state=0, copy=True).X.toarray(), 1), 0).all() != True:\n",
    "        print('CAREFUL: non-integer matrix loaded!')"
   ]
  },
  {
   "cell_type": "code",
   "execution_count": null,
   "id": "6a2c876c",
   "metadata": {},
   "outputs": [],
   "source": [
    "print(adata.X[45:50, 45:50])"
   ]
  },
  {
   "cell_type": "code",
   "execution_count": null,
   "id": "a25f9e2a",
   "metadata": {},
   "outputs": [],
   "source": [
    "maxCount = csr_matrix.max(adata.X)\n",
    "print(maxCount)\n",
    "\n",
    "if maxCount < 32000:\n",
    "    print('Change X type to integer')\n",
    "    adata.X = adata.X.astype('uint16')\n",
    "else: \n",
    "    print('X type not changed')"
   ]
  },
  {
   "cell_type": "code",
   "execution_count": null,
   "id": "8223f260",
   "metadata": {},
   "outputs": [],
   "source": [
    "print(adata.X[45:50, 45:50])\n",
    "print(csr_matrix.max(adata.X))\n",
    "\n",
    "if (csr_matrix.max(adata.X)) != maxCount:\n",
    "    print('CAREFUL: max count value has changed!')"
   ]
  },
  {
   "cell_type": "code",
   "execution_count": null,
   "id": "5a479057",
   "metadata": {},
   "outputs": [],
   "source": [
    "if meta.shape[0] != adata.obs.shape[0]:\n",
    "    print('CAREFUL: expression matrix and metadata size are not coherent!')\n",
    "    print ('Metadata rows: ' + str(meta.shape[0]))"
   ]
  },
  {
   "cell_type": "code",
   "execution_count": null,
   "id": "48aff8ed",
   "metadata": {},
   "outputs": [],
   "source": [
    "adata.obs = adata.obs.join(meta, how='left', validate='one_to_one')\n",
    "del meta"
   ]
  },
  {
   "cell_type": "code",
   "execution_count": null,
   "id": "0cc22a2a",
   "metadata": {},
   "outputs": [],
   "source": [
    "adata.obs.head(3)"
   ]
  },
  {
   "cell_type": "code",
   "execution_count": null,
   "id": "219c7a36",
   "metadata": {},
   "outputs": [],
   "source": [
    "annot = sc.queries.biomart_annotations(\n",
    "        \"hsapiens\",\n",
    "        [\"ensembl_gene_id\", \"external_gene_name\",\"start_position\", \"end_position\", \"chromosome_name\"],\n",
    "    ).set_index(\"ensembl_gene_id\")"
   ]
  },
  {
   "cell_type": "code",
   "execution_count": null,
   "id": "e2c757fb",
   "metadata": {},
   "outputs": [],
   "source": [
    "adata.var = adata.var.join(annot, how='left', validate='one_to_one')\n",
    "print(adata.var['external_gene_name'].isnull().sum())\n",
    "del annot"
   ]
  },
  {
   "cell_type": "code",
   "execution_count": null,
   "id": "40d82ee5",
   "metadata": {},
   "outputs": [],
   "source": [
    "adata.var['ensg'] = adata.var.index.tolist()\n",
    "adata.var['external_gene_name'] = adata.var['external_gene_name'].fillna(adata.var.ensg)"
   ]
  },
  {
   "cell_type": "code",
   "execution_count": null,
   "id": "20735c23",
   "metadata": {},
   "outputs": [],
   "source": [
    "#replace external gene name as index\n",
    "adata.var.index = adata.var['external_gene_name']\n",
    "adata.var.drop('external_gene_name', axis = 1, inplace = True)\n",
    "adata.var_names_make_unique()"
   ]
  },
  {
   "cell_type": "code",
   "execution_count": null,
   "id": "4cd8eefd",
   "metadata": {},
   "outputs": [],
   "source": [
    "adata.var.head(3)"
   ]
  },
  {
   "cell_type": "code",
   "execution_count": null,
   "id": "b728373e",
   "metadata": {},
   "outputs": [],
   "source": [
    "adata.obs['dataset_id'] = 'Id0003'\n",
    "adata.obs['sample_id'] = adata.obs['Auth_Sample.ID']\n",
    "adata.obs['brain_region'] = 'cerebral_cortex'\n",
    "adata.obs['age'] = adata.obs['Auth_Age'].str.replace('pcw', 'PCW_')\n",
    "adata.obs['stage'] = 'prenatal'\n",
    "adata.obs['batch_key'] = adata.obs['Auth_Batch'] + '_' + adata.obs['Auth_Assay'].str.replace(' ', '')"
   ]
  },
  {
   "cell_type": "code",
   "execution_count": null,
   "id": "a766e8bb",
   "metadata": {},
   "outputs": [],
   "source": [
    "adata.obs.head(3)"
   ]
  },
  {
   "cell_type": "code",
   "execution_count": null,
   "id": "7da88b28",
   "metadata": {},
   "outputs": [],
   "source": [
    "print('Available metadata for each cell: ', adata.obs.columns)"
   ]
  },
  {
   "cell_type": "code",
   "execution_count": null,
   "id": "ed6b8c06",
   "metadata": {},
   "outputs": [],
   "source": [
    "adata.obs['cell_label'].value_counts()"
   ]
  },
  {
   "cell_type": "code",
   "execution_count": null,
   "id": "2b2de4df",
   "metadata": {},
   "outputs": [],
   "source": [
    "Dict = {'c0': 'ExN_N5', 'c1': 'In_CGE', 'c2': 'ExN_N1',\n",
    "        'c3': 'In_MGE', 'c4': 'ExN_N4', 'c5': 'ExN_N2', \n",
    "        'c6': 'RG_early', 'c7': 'ExN_N7', 'c8': 'CycProg', \n",
    "        'c9': 'ExN_N3', 'c10': 'RG_late', 'c11': 'GliaPg', \n",
    "        'c12': 'ExN_N6', 'c13': 'SubPlate', 'c14': 'IPC', \n",
    "        'c15': 'ExN_N8', 'c16': 'Microglia', 'c17': 'OPC_Oligo', \n",
    "        'c18': 'tRG', 'c19': 'Pericytes', 'c20': 'Endo',\n",
    "        'c21': 'RBC', 'c22': 'VLMC'\n",
    "       }\n",
    "\n",
    "adata.obs['cell_label'] = adata.obs['Auth_seurat_clusters'].replace(Dict)"
   ]
  },
  {
   "cell_type": "code",
   "execution_count": null,
   "id": "9ed8d025",
   "metadata": {},
   "outputs": [],
   "source": [
    "plt.rcParams['figure.figsize'] = [7, 3.5]\n",
    "fn.metaBarplot(adata, 'cell_label')"
   ]
  },
  {
   "cell_type": "code",
   "execution_count": null,
   "id": "ef6a1d79",
   "metadata": {},
   "outputs": [],
   "source": [
    "pd.crosstab(adata.obs['sample_id'], adata.obs['Auth_Tissue.ID'], dropna=False)"
   ]
  },
  {
   "cell_type": "code",
   "execution_count": null,
   "id": "4875b554",
   "metadata": {},
   "outputs": [],
   "source": [
    "pd.crosstab(adata.obs['sample_id'], adata.obs['age'], dropna=False)"
   ]
  },
  {
   "cell_type": "code",
   "execution_count": null,
   "id": "4f04fc53",
   "metadata": {},
   "outputs": [],
   "source": [
    "fn.metaBarplot(adata, 'sample_id')"
   ]
  },
  {
   "cell_type": "code",
   "execution_count": null,
   "id": "0f7faa6f",
   "metadata": {},
   "outputs": [],
   "source": [
    "pd.crosstab(adata.obs['Auth_Sample.Type'], adata.obs['sample_id'], dropna=False)"
   ]
  },
  {
   "cell_type": "code",
   "execution_count": null,
   "id": "ff63a82e",
   "metadata": {},
   "outputs": [],
   "source": [
    "pd.crosstab(adata.obs['Auth_Assay'], adata.obs['sample_id'], dropna=False)"
   ]
  },
  {
   "cell_type": "code",
   "execution_count": null,
   "id": "b5250ec0",
   "metadata": {},
   "outputs": [],
   "source": [
    "pd.crosstab(adata.obs['Auth_Batch'], adata.obs['sample_id'], dropna=False)"
   ]
  },
  {
   "cell_type": "code",
   "execution_count": null,
   "id": "8be902c1",
   "metadata": {},
   "outputs": [],
   "source": [
    "pd.crosstab(adata.obs['Auth_Batch'], adata.obs['Auth_Assay'], dropna=False)"
   ]
  },
  {
   "cell_type": "code",
   "execution_count": null,
   "id": "6cc6583b",
   "metadata": {},
   "outputs": [],
   "source": [
    "fn.metaBarplot(adata, 'batch_key')"
   ]
  },
  {
   "cell_type": "code",
   "execution_count": null,
   "id": "d7d4bd0a",
   "metadata": {},
   "outputs": [],
   "source": [
    "adata"
   ]
  },
  {
   "cell_type": "code",
   "execution_count": null,
   "id": "ad3d0b5d",
   "metadata": {},
   "outputs": [],
   "source": [
    "if isspmatrix(adata.X) == False:\n",
    "    adata.X = csr_matrix(adata.X)\n",
    "    print('Converted adata.X to', type(adata.X))"
   ]
  },
  {
   "cell_type": "code",
   "execution_count": null,
   "id": "1fd648e2",
   "metadata": {},
   "outputs": [],
   "source": [
    "adata.write(output_file, compression='gzip')"
   ]
  },
  {
   "cell_type": "code",
   "execution_count": null,
   "id": "bea9f739",
   "metadata": {},
   "outputs": [],
   "source": [
    "print(datetime.now())"
   ]
  },
  {
   "cell_type": "markdown",
   "id": "5e60a1d0",
   "metadata": {},
   "source": [
    "### Reference\n",
    "* https://github.com/BrainOmicsCourse/BrainOmics2024/blob/main/1_Day1/Resources.md\n",
    "* https://www.ncbi.nlm.nih.gov/geo/query/acc.cgi?acc=GSE162170\n",
    "* https://github.com/BrainOmicsCourse/BrainOmics2024/blob/main/1_Day1/Compiled/0_AssembleAdata.html"
   ]
  }
 ],
 "metadata": {
  "kernelspec": {
   "display_name": "brainomics_study_0723",
   "language": "python",
   "name": "python3"
  },
  "language_info": {
   "name": "python",
   "version": "3.9.23"
  }
 },
 "nbformat": 4,
 "nbformat_minor": 5
}
