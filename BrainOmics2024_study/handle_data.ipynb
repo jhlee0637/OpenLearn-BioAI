{
 "cells": [
  {
   "cell_type": "markdown",
   "id": "0c5abae3",
   "metadata": {},
   "source": [
    "### 10x genomics 플랫폼의 종류\n",
    "\n",
    "| | **Chromium Single Cell** | **Visium Spatial** | **Xenium In Situ** |\n",
    "| :--- | :--- | :--- | :--- |\n",
    "| **Platform** | Chromium | Visium| Xenium|\n",
    "| **When to use** | **종합적인 단일 세포 데이터**<br>세포 집단과 상태에 대한 심층 분석에 이상적 | **고해상도 공간 유전자 발현**<br>복잡한 조직, 이웃 세포, 세포 간 상호작용 이해.<br>다른 공간 오믹스, 조직학, 형태학과 통합. | Visium 과 동일 |\n",
    "| **Why to use** | 편향 없는 단일 세포 발견,<br>유전자별 높은 민감도 | 편향 없는 공간적 발견 | 표적 기반 공간 탐색,<br>유전자별 높은 민감도 |\n",
    "| **Applications** | 전체 전사체 유전자 발현<br>단백질<br>TCR, BCR<br>CRISPR<br>ATAC | 전체 전사체 유전자 발현 | 표적 유전자 발현 (최대 5,000개 유전자) |\n",
    "| **Resolution** | 단일 세포 (Single cell) | 2-µm 영역에 할당된 전사체 | 단일 세포 (Single cell) |\n",
    "| **Data readout** | Sequencing 기반 | Sequencing 기반 | Image 기반 |\n",
    "| **Sample compatibility**| Single cell or nuclei suspensions from fresh, frozen, or FFPE samples | FFPE<br>Fresh frozen<br>Fixed frozen | Fresh frozen<br>FFPE |"
   ]
  },
  {
   "cell_type": "code",
   "execution_count": 1,
   "id": "ad009328",
   "metadata": {},
   "outputs": [],
   "source": [
    "import os\n",
    "import sys\n",
    "\n",
    "import numpy as np\n",
    "import pandas as pd\n",
    "import scanpy as sc\n",
    "import scanpy.external as sce\n",
    "from scipy.sparse import csr_matrix, isspmatrix\n",
    "\n",
    "#Plotting\n",
    "import matplotlib.pyplot as plt\n",
    "import seaborn as sns\n",
    "\n",
    "#ultils\n",
    "#import ipynbname\n",
    "from datetime import datetime"
   ]
  },
  {
   "cell_type": "code",
   "execution_count": 3,
   "id": "d49c3031",
   "metadata": {},
   "outputs": [],
   "source": [
    "# Custom functions\n",
    "sys.path.append('HelperFunctions')\n",
    "import Day1Helper as fn\n",
    "#help(fn)"
   ]
  },
  {
   "cell_type": "code",
   "execution_count": null,
   "id": "873ec1c1",
   "metadata": {},
   "outputs": [],
   "source": [
    "input_file = '../1_AssembledAdata.h5ad'"
   ]
  },
  {
   "cell_type": "code",
   "execution_count": null,
   "id": "3067d96c",
   "metadata": {},
   "outputs": [],
   "source": [
    "#Cell filtering   \n",
    "MIN_GENES = 850\n",
    "MAX_GENES = 10000\n",
    "\n",
    "MIN_COUNTS = 1500\n",
    "MAX_COUNTS = 15000\n",
    "\n",
    "PCT_MITO = 10\n",
    "PCT_RIBO = 25\n",
    "\n",
    "#Gene Filtering\n",
    "PCT_CELLS = 0.25"
   ]
  },
  {
   "cell_type": "markdown",
   "id": "e80cf207",
   "metadata": {},
   "source": [
    "**미토콘드리아 비율을 확인하는 이유**\n",
    "> \"A high fraction of mitochondrial counts can be indicative of cells with broken membranes. In such cases, the cytoplasmic mRNA has leaked out, leaving behind the more conserved mRNA located in the mitochondria.\"    \n",
    ">\n",
    "> _높은 비율의 미토콘드리아 유전자 발현량은 세포막이 손상된 세포를 나타내는 지표가 될 수 있습니다. 이러한 경우, 세포질의 mRNA는 밖으로 유출되고 미토콘드리아 내의 보존되어있는 mRNA만 남게 됩니다._\n",
    ">\n",
    ">_Current best practices in single‐cell RNA‐seq analysis: a tutorial (2019)_\n",
    "\n",
    "    "
   ]
  },
  {
   "cell_type": "markdown",
   "id": "b5d150c1",
   "metadata": {},
   "source": [
    "**리보솜 유전자 비율을 확인하는 이유**\n",
    ">\"A large number of studies have shown that ribosomal protein-coding genes (RPGs) are highly expressed and co-expressed in many cell types. [...]    \n",
    ">the expression of RPGs is often correlated with the cell cycle, and in some studies, RPGs are removed before downstream analysis. [...]    \n",
    ">However, the expression of RPGs can also reflect the metabolic activity of cells, and their expression levels are different in different cell types.\"\n",
    ">\n",
    ">_많은 연구에서 리보솜 단백질 암호화 유전자(RPG)가 다양한 세포 유형에서 높게 발현되고 함께 발현된다는 것을 보여주었습니다. [...]    \n",
    ">RPG의 발현은 종종 **세포 주기**와 연관되어 있으며, 일부 연구에서는 다음 분석 단계 전에 **RPG를 제거**하기도 합니다. [...]    \n",
    ">하지만, RPG의 발현은 세포의 대사 활동을 반영할 수도 있으며, 그 발현 수준은 다른 세포 유형에서 다르게 나타납니다._\n",
    ">\n",
    ">_Effective ribosomal RNA depletion for single-cell total RNA-seq by scDASH (2021)_"
   ]
  },
  {
   "cell_type": "code",
   "execution_count": null,
   "id": "2a5da48c",
   "metadata": {},
   "outputs": [],
   "source": [
    "# batch key for calculation of HVG and for Harmony correction \n",
    "BATCH_KEY = 'batch_key'"
   ]
  },
  {
   "cell_type": "code",
   "execution_count": 4,
   "id": "3e99f482",
   "metadata": {},
   "outputs": [],
   "source": [
    "# Number of Principal component for UMAP\n",
    "N_PCs = 18\n",
    "\n",
    "#PCA 분석 -> 차원축소 이후 상위 18개의 주성분만 UMAP 계산에 사용"
   ]
  },
  {
   "cell_type": "code",
   "execution_count": 5,
   "id": "c8367113",
   "metadata": {},
   "outputs": [],
   "source": [
    "# Leiden resolution chosen for clusters\n",
    "chosen_leiden = 'Leiden_04'\n",
    "\n",
    "#세포 군집을 위해 사용하는 Leiden 알고리즘을 해상도 0.4로 실행"
   ]
  },
  {
   "cell_type": "markdown",
   "id": "2b977424",
   "metadata": {},
   "source": [
    "### Anndata에 대하여\n",
    "<img src=\"https://raw.githubusercontent.com/scverse/anndata/main/docs/_static/img/anndata_schema.svg\" width=\"400\">    \n",
    "\n",
    "scRNA-seq 데이터를 다루기 위해 만들어진 데이터 구조    \n",
    "* adata.X: 핵심 데이터셋. 행은 세포, 열은 유전자. 희소행렬/밀집행렬을 이용한 메모리효율적 구조로 이루어짐.\n",
    "* adata.obs: 세포에 대한 메타데이터. 각 행은 adata.X의 행과 같음. Sequencing에 따른 세포유형, 실험배치, QC matrics 등을 가짐\n",
    "* adata.var: 유전자에 대한 메타데이터. 각 행은 adata.X의 열과 같음. 유전자 ID 등을 가짐\n",
    "* adata.obsm: 세포에 대한 다차원 데이터.\n",
    "* adata.varm: 유전자에 대한 다차원 데이터.\n",
    "* adata.obsp: 세포-세포 사이의 관계를 나타내는 그래프 데이터.\n",
    "* adata.varp: 유전자-유전사 사이의 관계를 나타내는 그래프 데이터.\n",
    "* adata.layers: adata.X에 담지 못한 추가 데이터\n",
    "* adata.uns: 비정형 데이터셋"
   ]
  },
  {
   "cell_type": "markdown",
   "id": "4141725e",
   "metadata": {},
   "source": [
    "### Barcode metadata\n",
    "* Barcode = 각 세포들에게 부여된 ID"
   ]
  },
  {
   "cell_type": "code",
   "execution_count": null,
   "id": "ae1409f9",
   "metadata": {},
   "outputs": [],
   "source": [
    "barcodes = adata.obs.index"
   ]
  }
 ],
 "metadata": {
  "kernelspec": {
   "display_name": "brainomics_study_0723",
   "language": "python",
   "name": "python3"
  },
  "language_info": {
   "codemirror_mode": {
    "name": "ipython",
    "version": 3
   },
   "file_extension": ".py",
   "mimetype": "text/x-python",
   "name": "python",
   "nbconvert_exporter": "python",
   "pygments_lexer": "ipython3",
   "version": "3.9.23"
  }
 },
 "nbformat": 4,
 "nbformat_minor": 5
}
